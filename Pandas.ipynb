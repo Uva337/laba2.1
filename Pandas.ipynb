{
 "cells": [
  {
   "cell_type": "code",
   "execution_count": 2,
   "metadata": {},
   "outputs": [],
   "source": [
    "import pandas as pd\n",
    "import numpy as np\n",
    "import json\n",
    "import matplotlib.pyplot as plt\n",
    "%matplotlib inline"
   ]
  },
  {
   "cell_type": "code",
   "execution_count": 3,
   "metadata": {},
   "outputs": [],
   "source": [
    "city = pd.read_csv('city.csv')"
   ]
  },
  {
   "cell_type": "markdown",
   "metadata": {},
   "source": [
    "Столбцы и количество строк в таблице city"
   ]
  },
  {
   "cell_type": "code",
   "execution_count": 124,
   "metadata": {},
   "outputs": [
    {
     "data": {
      "text/plain": [
       "Index(['address', 'postal_code', 'country', 'federal_district', 'region_type',\n",
       "       'region', 'area_type', 'area', 'city_type', 'city', 'settlement_type',\n",
       "       'settlement', 'kladr_id', 'fias_id', 'fias_level', 'capital_marker',\n",
       "       'okato', 'oktmo', 'tax_office', 'timezone', 'geo_lat', 'geo_lon',\n",
       "       'population', 'foundation_year'],\n",
       "      dtype='object')"
      ]
     },
     "execution_count": 124,
     "metadata": {},
     "output_type": "execute_result"
    }
   ],
   "source": [
    "city.columns"
   ]
  },
  {
   "cell_type": "code",
   "execution_count": 123,
   "metadata": {},
   "outputs": [
    {
     "data": {
      "text/plain": [
       "1117"
      ]
     },
     "execution_count": 123,
     "metadata": {},
     "output_type": "execute_result"
    }
   ],
   "source": [
    "len(city)"
   ]
  },
  {
   "cell_type": "markdown",
   "metadata": {},
   "source": [
    "Узнали самое длинное название города в таблице"
   ]
  },
  {
   "cell_type": "code",
   "execution_count": 128,
   "metadata": {
    "scrolled": false
   },
   "outputs": [
    {
     "name": "stdout",
     "output_type": "stream",
     "text": [
      "Самое длинное название города в таблице имеет 25 символов\n"
     ]
    }
   ],
   "source": [
    "q=[]\n",
    "for i in city[\"city\"]:\n",
    "    i = str(i)\n",
    "    q.append(i)\n",
    "print(f'Самое длинное название города в таблице имеет {len(max(list, key=len))} символов')"
   ]
  },
  {
   "cell_type": "markdown",
   "metadata": {},
   "source": [
    "Количество городов для каждого часового пояса в Сибирском и Приволжском федеральных округах\n",
    "Ответ: 58"
   ]
  },
  {
   "cell_type": "code",
   "execution_count": 130,
   "metadata": {
    "scrolled": false
   },
   "outputs": [
    {
     "data": {
      "text/html": [
       "<div>\n",
       "<style scoped>\n",
       "    .dataframe tbody tr th:only-of-type {\n",
       "        vertical-align: middle;\n",
       "    }\n",
       "\n",
       "    .dataframe tbody tr th {\n",
       "        vertical-align: top;\n",
       "    }\n",
       "\n",
       "    .dataframe thead th {\n",
       "        text-align: right;\n",
       "    }\n",
       "</style>\n",
       "<table border=\"1\" class=\"dataframe\">\n",
       "  <thead>\n",
       "    <tr style=\"text-align: right;\">\n",
       "      <th></th>\n",
       "      <th>Количество городов</th>\n",
       "    </tr>\n",
       "    <tr>\n",
       "      <th>timezone</th>\n",
       "      <th></th>\n",
       "    </tr>\n",
       "  </thead>\n",
       "  <tbody>\n",
       "    <tr>\n",
       "      <th>UTC+3</th>\n",
       "      <td>101</td>\n",
       "    </tr>\n",
       "    <tr>\n",
       "      <th>UTC+4</th>\n",
       "      <td>41</td>\n",
       "    </tr>\n",
       "    <tr>\n",
       "      <th>UTC+5</th>\n",
       "      <td>58</td>\n",
       "    </tr>\n",
       "    <tr>\n",
       "      <th>UTC+6</th>\n",
       "      <td>6</td>\n",
       "    </tr>\n",
       "    <tr>\n",
       "      <th>UTC+7</th>\n",
       "      <td>86</td>\n",
       "    </tr>\n",
       "    <tr>\n",
       "      <th>UTC+8</th>\n",
       "      <td>22</td>\n",
       "    </tr>\n",
       "  </tbody>\n",
       "</table>\n",
       "</div>"
      ],
      "text/plain": [
       "          Количество городов\n",
       "timezone                    \n",
       "UTC+3                    101\n",
       "UTC+4                     41\n",
       "UTC+5                     58\n",
       "UTC+6                      6\n",
       "UTC+7                     86\n",
       "UTC+8                     22"
      ]
     },
     "execution_count": 130,
     "metadata": {},
     "output_type": "execute_result"
    }
   ],
   "source": [
    "time = city[city['federal_district'].isin(['Приволжский', 'Сибирский'])]\n",
    "time[['timezone','address']].groupby('timezone').count().rename({'address': 'Количество городов'}, axis=1)"
   ]
  },
  {
   "cell_type": "markdown",
   "metadata": {},
   "source": [
    "Количество городов в каждом часовом поясе, отсортированное по убыванию."
   ]
  },
  {
   "cell_type": "code",
   "execution_count": 148,
   "metadata": {},
   "outputs": [
    {
     "data": {
      "text/html": [
       "<div>\n",
       "<style scoped>\n",
       "    .dataframe tbody tr th:only-of-type {\n",
       "        vertical-align: middle;\n",
       "    }\n",
       "\n",
       "    .dataframe tbody tr th {\n",
       "        vertical-align: top;\n",
       "    }\n",
       "\n",
       "    .dataframe thead th {\n",
       "        text-align: right;\n",
       "    }\n",
       "</style>\n",
       "<table border=\"1\" class=\"dataframe\">\n",
       "  <thead>\n",
       "    <tr style=\"text-align: right;\">\n",
       "      <th></th>\n",
       "      <th>Количество городов</th>\n",
       "    </tr>\n",
       "    <tr>\n",
       "      <th>timezone</th>\n",
       "      <th></th>\n",
       "    </tr>\n",
       "  </thead>\n",
       "  <tbody>\n",
       "    <tr>\n",
       "      <th>UTC+3</th>\n",
       "      <td>660</td>\n",
       "    </tr>\n",
       "    <tr>\n",
       "      <th>UTC+5</th>\n",
       "      <td>173</td>\n",
       "    </tr>\n",
       "    <tr>\n",
       "      <th>UTC+7</th>\n",
       "      <td>86</td>\n",
       "    </tr>\n",
       "    <tr>\n",
       "      <th>UTC+4</th>\n",
       "      <td>66</td>\n",
       "    </tr>\n",
       "    <tr>\n",
       "      <th>UTC+9</th>\n",
       "      <td>31</td>\n",
       "    </tr>\n",
       "    <tr>\n",
       "      <th>UTC+8</th>\n",
       "      <td>28</td>\n",
       "    </tr>\n",
       "    <tr>\n",
       "      <th>UTC+10</th>\n",
       "      <td>22</td>\n",
       "    </tr>\n",
       "    <tr>\n",
       "      <th>UTC+2</th>\n",
       "      <td>22</td>\n",
       "    </tr>\n",
       "    <tr>\n",
       "      <th>UTC+11</th>\n",
       "      <td>17</td>\n",
       "    </tr>\n",
       "    <tr>\n",
       "      <th>UTC+12</th>\n",
       "      <td>6</td>\n",
       "    </tr>\n",
       "    <tr>\n",
       "      <th>UTC+6</th>\n",
       "      <td>6</td>\n",
       "    </tr>\n",
       "  </tbody>\n",
       "</table>\n",
       "</div>"
      ],
      "text/plain": [
       "          Количество городов\n",
       "timezone                    \n",
       "UTC+3                    660\n",
       "UTC+5                    173\n",
       "UTC+7                     86\n",
       "UTC+4                     66\n",
       "UTC+9                     31\n",
       "UTC+8                     28\n",
       "UTC+10                    22\n",
       "UTC+2                     22\n",
       "UTC+11                    17\n",
       "UTC+12                     6\n",
       "UTC+6                      6"
      ]
     },
     "execution_count": 148,
     "metadata": {},
     "output_type": "execute_result"
    }
   ],
   "source": [
    "q = city[['timezone','address']].groupby('timezone').count().sort_values('address', ascending=False)\n",
    "q.rename({'address': 'Количество городов'}, axis=1)\n"
   ]
  },
  {
   "cell_type": "markdown",
   "metadata": {},
   "source": [
    "Индивидуальное задание"
   ]
  },
  {
   "cell_type": "code",
   "execution_count": 9,
   "metadata": {},
   "outputs": [
    {
     "data": {
      "text/plain": [
       "address             1117\n",
       "postal_code         1116\n",
       "country             1117\n",
       "federal_district    1117\n",
       "region_type         1117\n",
       "region              1117\n",
       "area_type            612\n",
       "area                 612\n",
       "city_type           1113\n",
       "city                1113\n",
       "settlement_type        2\n",
       "settlement             2\n",
       "kladr_id            1117\n",
       "fias_id             1117\n",
       "fias_level          1117\n",
       "capital_marker      1117\n",
       "okato               1117\n",
       "oktmo               1117\n",
       "tax_office          1117\n",
       "timezone            1117\n",
       "geo_lat             1117\n",
       "geo_lon             1117\n",
       "population          1117\n",
       "foundation_year     1117\n",
       "dtype: int64"
      ]
     },
     "execution_count": 9,
     "metadata": {},
     "output_type": "execute_result"
    }
   ],
   "source": [
    "city.count()"
   ]
  },
  {
   "cell_type": "code",
   "execution_count": 11,
   "metadata": {},
   "outputs": [
    {
     "data": {
      "text/html": [
       "<div>\n",
       "<style scoped>\n",
       "    .dataframe tbody tr th:only-of-type {\n",
       "        vertical-align: middle;\n",
       "    }\n",
       "\n",
       "    .dataframe tbody tr th {\n",
       "        vertical-align: top;\n",
       "    }\n",
       "\n",
       "    .dataframe thead th {\n",
       "        text-align: right;\n",
       "    }\n",
       "</style>\n",
       "<table border=\"1\" class=\"dataframe\">\n",
       "  <thead>\n",
       "    <tr style=\"text-align: right;\">\n",
       "      <th></th>\n",
       "      <th>federal_district</th>\n",
       "      <th>region_type</th>\n",
       "    </tr>\n",
       "  </thead>\n",
       "  <tbody>\n",
       "    <tr>\n",
       "      <th>0</th>\n",
       "      <td>Южный</td>\n",
       "      <td>Респ</td>\n",
       "    </tr>\n",
       "    <tr>\n",
       "      <th>1</th>\n",
       "      <td>Южный</td>\n",
       "      <td>Респ</td>\n",
       "    </tr>\n",
       "    <tr>\n",
       "      <th>2</th>\n",
       "      <td>Сибирский</td>\n",
       "      <td>Респ</td>\n",
       "    </tr>\n",
       "    <tr>\n",
       "      <th>3</th>\n",
       "      <td>Сибирский</td>\n",
       "      <td>край</td>\n",
       "    </tr>\n",
       "    <tr>\n",
       "      <th>4</th>\n",
       "      <td>Сибирский</td>\n",
       "      <td>край</td>\n",
       "    </tr>\n",
       "    <tr>\n",
       "      <th>...</th>\n",
       "      <td>...</td>\n",
       "      <td>...</td>\n",
       "    </tr>\n",
       "    <tr>\n",
       "      <th>1112</th>\n",
       "      <td>Центральный</td>\n",
       "      <td>обл</td>\n",
       "    </tr>\n",
       "    <tr>\n",
       "      <th>1113</th>\n",
       "      <td>Центральный</td>\n",
       "      <td>обл</td>\n",
       "    </tr>\n",
       "    <tr>\n",
       "      <th>1114</th>\n",
       "      <td>Центральный</td>\n",
       "      <td>обл</td>\n",
       "    </tr>\n",
       "    <tr>\n",
       "      <th>1115</th>\n",
       "      <td>Центральный</td>\n",
       "      <td>обл</td>\n",
       "    </tr>\n",
       "    <tr>\n",
       "      <th>1116</th>\n",
       "      <td>Центральный</td>\n",
       "      <td>обл</td>\n",
       "    </tr>\n",
       "  </tbody>\n",
       "</table>\n",
       "<p>1117 rows × 2 columns</p>\n",
       "</div>"
      ],
      "text/plain": [
       "     federal_district region_type\n",
       "0               Южный        Респ\n",
       "1               Южный        Респ\n",
       "2           Сибирский        Респ\n",
       "3           Сибирский        край\n",
       "4           Сибирский        край\n",
       "...               ...         ...\n",
       "1112      Центральный         обл\n",
       "1113      Центральный         обл\n",
       "1114      Центральный         обл\n",
       "1115      Центральный         обл\n",
       "1116      Центральный         обл\n",
       "\n",
       "[1117 rows x 2 columns]"
      ]
     },
     "execution_count": 11,
     "metadata": {},
     "output_type": "execute_result"
    }
   ],
   "source": [
    "city.loc[:,'federal_district':'region_type']"
   ]
  },
  {
   "cell_type": "code",
   "execution_count": 4,
   "metadata": {},
   "outputs": [
    {
     "data": {
      "text/html": [
       "<div>\n",
       "<style scoped>\n",
       "    .dataframe tbody tr th:only-of-type {\n",
       "        vertical-align: middle;\n",
       "    }\n",
       "\n",
       "    .dataframe tbody tr th {\n",
       "        vertical-align: top;\n",
       "    }\n",
       "\n",
       "    .dataframe thead th {\n",
       "        text-align: right;\n",
       "    }\n",
       "</style>\n",
       "<table border=\"1\" class=\"dataframe\">\n",
       "  <thead>\n",
       "    <tr style=\"text-align: right;\">\n",
       "      <th></th>\n",
       "      <th>postal_code</th>\n",
       "      <th>kladr_id</th>\n",
       "      <th>fias_level</th>\n",
       "      <th>capital_marker</th>\n",
       "      <th>okato</th>\n",
       "      <th>oktmo</th>\n",
       "      <th>tax_office</th>\n",
       "      <th>geo_lat</th>\n",
       "      <th>geo_lon</th>\n",
       "    </tr>\n",
       "    <tr>\n",
       "      <th>federal_district</th>\n",
       "      <th></th>\n",
       "      <th></th>\n",
       "      <th></th>\n",
       "      <th></th>\n",
       "      <th></th>\n",
       "      <th></th>\n",
       "      <th></th>\n",
       "      <th></th>\n",
       "      <th></th>\n",
       "    </tr>\n",
       "  </thead>\n",
       "  <tbody>\n",
       "    <tr>\n",
       "      <th>Дальневосточный</th>\n",
       "      <td>682872.512195</td>\n",
       "      <td>3.987239e+12</td>\n",
       "      <td>4.000000</td>\n",
       "      <td>0.768293</td>\n",
       "      <td>5.203342e+10</td>\n",
       "      <td>2.468439e+10</td>\n",
       "      <td>4002.182927</td>\n",
       "      <td>52.287897</td>\n",
       "      <td>131.864522</td>\n",
       "    </tr>\n",
       "    <tr>\n",
       "      <th>Приволжский</th>\n",
       "      <td>498052.210000</td>\n",
       "      <td>4.081116e+12</td>\n",
       "      <td>4.000000</td>\n",
       "      <td>0.695000</td>\n",
       "      <td>6.111288e+10</td>\n",
       "      <td>3.074717e+10</td>\n",
       "      <td>4114.250000</td>\n",
       "      <td>55.231634</td>\n",
       "      <td>50.124872</td>\n",
       "    </tr>\n",
       "    <tr>\n",
       "      <th>Северо-Западный</th>\n",
       "      <td>187386.554054</td>\n",
       "      <td>3.985862e+12</td>\n",
       "      <td>3.979730</td>\n",
       "      <td>0.682432</td>\n",
       "      <td>4.399240e+10</td>\n",
       "      <td>3.445016e+10</td>\n",
       "      <td>3966.054054</td>\n",
       "      <td>60.518205</td>\n",
       "      <td>33.525417</td>\n",
       "    </tr>\n",
       "    <tr>\n",
       "      <th>Северо-Кавказский</th>\n",
       "      <td>364365.736842</td>\n",
       "      <td>1.510812e+12</td>\n",
       "      <td>4.034483</td>\n",
       "      <td>0.758621</td>\n",
       "      <td>5.597477e+10</td>\n",
       "      <td>3.031803e+10</td>\n",
       "      <td>1534.189655</td>\n",
       "      <td>43.760014</td>\n",
       "      <td>44.339335</td>\n",
       "    </tr>\n",
       "    <tr>\n",
       "      <th>Сибирский</th>\n",
       "      <td>654768.991228</td>\n",
       "      <td>3.669082e+12</td>\n",
       "      <td>4.000000</td>\n",
       "      <td>0.464912</td>\n",
       "      <td>3.320362e+10</td>\n",
       "      <td>3.230398e+10</td>\n",
       "      <td>3697.605263</td>\n",
       "      <td>55.099140</td>\n",
       "      <td>89.292072</td>\n",
       "    </tr>\n",
       "    <tr>\n",
       "      <th>Уральский</th>\n",
       "      <td>582746.973913</td>\n",
       "      <td>7.109265e+12</td>\n",
       "      <td>4.000000</td>\n",
       "      <td>0.365217</td>\n",
       "      <td>6.727546e+10</td>\n",
       "      <td>3.378558e+10</td>\n",
       "      <td>7144.817391</td>\n",
       "      <td>57.847247</td>\n",
       "      <td>63.405427</td>\n",
       "    </tr>\n",
       "    <tr>\n",
       "      <th>Центральный</th>\n",
       "      <td>258237.763158</td>\n",
       "      <td>5.025212e+12</td>\n",
       "      <td>3.996711</td>\n",
       "      <td>0.730263</td>\n",
       "      <td>4.038296e+10</td>\n",
       "      <td>3.192162e+10</td>\n",
       "      <td>5048.187500</td>\n",
       "      <td>54.897382</td>\n",
       "      <td>37.862216</td>\n",
       "    </tr>\n",
       "    <tr>\n",
       "      <th>Южный</th>\n",
       "      <td>356505.958333</td>\n",
       "      <td>4.585327e+12</td>\n",
       "      <td>3.989583</td>\n",
       "      <td>0.604167</td>\n",
       "      <td>3.065706e+10</td>\n",
       "      <td>2.707983e+10</td>\n",
       "      <td>4630.489583</td>\n",
       "      <td>46.715722</td>\n",
       "      <td>40.344276</td>\n",
       "    </tr>\n",
       "  </tbody>\n",
       "</table>\n",
       "</div>"
      ],
      "text/plain": [
       "                     postal_code      kladr_id  fias_level  capital_marker  \\\n",
       "federal_district                                                             \n",
       "Дальневосточный    682872.512195  3.987239e+12    4.000000        0.768293   \n",
       "Приволжский        498052.210000  4.081116e+12    4.000000        0.695000   \n",
       "Северо-Западный    187386.554054  3.985862e+12    3.979730        0.682432   \n",
       "Северо-Кавказский  364365.736842  1.510812e+12    4.034483        0.758621   \n",
       "Сибирский          654768.991228  3.669082e+12    4.000000        0.464912   \n",
       "Уральский          582746.973913  7.109265e+12    4.000000        0.365217   \n",
       "Центральный        258237.763158  5.025212e+12    3.996711        0.730263   \n",
       "Южный              356505.958333  4.585327e+12    3.989583        0.604167   \n",
       "\n",
       "                          okato         oktmo   tax_office    geo_lat  \\\n",
       "federal_district                                                        \n",
       "Дальневосточный    5.203342e+10  2.468439e+10  4002.182927  52.287897   \n",
       "Приволжский        6.111288e+10  3.074717e+10  4114.250000  55.231634   \n",
       "Северо-Западный    4.399240e+10  3.445016e+10  3966.054054  60.518205   \n",
       "Северо-Кавказский  5.597477e+10  3.031803e+10  1534.189655  43.760014   \n",
       "Сибирский          3.320362e+10  3.230398e+10  3697.605263  55.099140   \n",
       "Уральский          6.727546e+10  3.378558e+10  7144.817391  57.847247   \n",
       "Центральный        4.038296e+10  3.192162e+10  5048.187500  54.897382   \n",
       "Южный              3.065706e+10  2.707983e+10  4630.489583  46.715722   \n",
       "\n",
       "                      geo_lon  \n",
       "federal_district               \n",
       "Дальневосточный    131.864522  \n",
       "Приволжский         50.124872  \n",
       "Северо-Западный     33.525417  \n",
       "Северо-Кавказский   44.339335  \n",
       "Сибирский           89.292072  \n",
       "Уральский           63.405427  \n",
       "Центральный         37.862216  \n",
       "Южный               40.344276  "
      ]
     },
     "execution_count": 4,
     "metadata": {},
     "output_type": "execute_result"
    }
   ],
   "source": [
    "city.groupby('federal_district').mean()"
   ]
  },
  {
   "cell_type": "code",
   "execution_count": null,
   "metadata": {},
   "outputs": [],
   "source": []
  }
 ],
 "metadata": {
  "kernelspec": {
   "display_name": "Python 3",
   "language": "python",
   "name": "python3"
  },
  "language_info": {
   "codemirror_mode": {
    "name": "ipython",
    "version": 3
   },
   "file_extension": ".py",
   "mimetype": "text/x-python",
   "name": "python",
   "nbconvert_exporter": "python",
   "pygments_lexer": "ipython3",
   "version": "3.8.3"
  }
 },
 "nbformat": 4,
 "nbformat_minor": 4
}
